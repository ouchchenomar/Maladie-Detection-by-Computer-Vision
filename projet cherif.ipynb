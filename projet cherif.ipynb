{
 "cells": [
  {
   "cell_type": "code",
   "execution_count": 68,
   "metadata": {},
   "outputs": [],
   "source": [
    "import numpy as np  # Manipulation de tableaux numériques\n",
    "import pandas as pd  # Manipulation de données tabulaires\n",
    "import cv2  # Traitement d'images\n",
    "import os  # Interactions avec le système de fichiers\n",
    "from collections import Counter  # Comptage des occurrences\n",
    "from sklearn.model_selection import train_test_split  # Pour diviser les données\n",
    "import matplotlib.pyplot as plt  # Visualisation\n",
    "import seaborn as sns  # Visualisation avancée\n",
    "from sklearn.metrics import confusion_matrix\n",
    "from sklearn.metrics import classification_report\n",
    "\n",
    "\n"
   ]
  },
  {
   "cell_type": "code",
   "execution_count": 69,
   "metadata": {},
   "outputs": [],
   "source": [
    "# Configuration de base\n",
    "chemin_donnees = \"ches\"  # Chemin vers les données d'images\n",
    "categories = ['COVID19', 'NORMAL', 'PNEUMONIA', 'TURBERCULOSIS']  # Catégories de maladies\n",
    "taille_image = (64, 64)  # Taille pour redimensionner les images\n",
    "K = 3  # Nombre de voisins pour l'algorithme KNN"
   ]
  },
  {
   "cell_type": "code",
   "execution_count": 70,
   "metadata": {},
   "outputs": [
    {
     "name": "stdout",
     "output_type": "stream",
     "text": [
      "Fichier CSV généré avec succès : data.csv\n"
     ]
    }
   ],
   "source": [
    "# Initialisation des listes pour stocker les chemins des images et leurs catégories\n",
    "image_paths = []\n",
    "categories_list = []\n",
    "\n",
    "# Parcourir chaque catégorie\n",
    "for category in categories:\n",
    "    category_path = os.path.join(chemin_donnees, category)\n",
    "    \n",
    "    if os.path.exists(category_path):  # Vérifier si le chemin existe\n",
    "        for image_name in os.listdir(category_path):  # Parcourir les images de la catégorie\n",
    "            image_path = os.path.join(category_path, image_name)\n",
    "            if os.path.isfile(image_path):  # Vérifier si c'est bien un fichier\n",
    "                image_paths.append(image_path)\n",
    "                categories_list.append(category)\n",
    "    else:\n",
    "        print(f\"Chemin non trouvé : {category_path}\")\n",
    "\n",
    "# Créer un DataFrame à partir des chemins et catégories\n",
    "df = pd.DataFrame({'image_path': image_paths, 'category': categories_list})\n",
    "\n",
    "# Sauvegarder le DataFrame au format CSV\n",
    "donnecsv = \"data.csv\"  # Remplacez par le chemin de sortie souhaité\n",
    "df.to_csv(donnecsv, index=False)\n",
    "\n",
    "print(f\"Fichier CSV généré avec succès : {donnecsv}\")\n"
   ]
  },
  {
   "cell_type": "code",
   "execution_count": 71,
   "metadata": {},
   "outputs": [
    {
     "data": {
      "text/plain": [
       "<bound method NDFrame.head of                                 image_path       category\n",
       "0            ches\\COVID19\\COVID19(450).jpg        COVID19\n",
       "1            ches\\COVID19\\COVID19(451).jpg        COVID19\n",
       "2            ches\\COVID19\\COVID19(452).jpg        COVID19\n",
       "3            ches\\COVID19\\COVID19(453).jpg        COVID19\n",
       "4            ches\\COVID19\\COVID19(454).jpg        COVID19\n",
       "..                                     ...            ...\n",
       "164  ches\\TURBERCULOSIS\\Tuberculosis-5.png  TURBERCULOSIS\n",
       "165  ches\\TURBERCULOSIS\\Tuberculosis-6.png  TURBERCULOSIS\n",
       "166  ches\\TURBERCULOSIS\\Tuberculosis-7.png  TURBERCULOSIS\n",
       "167  ches\\TURBERCULOSIS\\Tuberculosis-8.png  TURBERCULOSIS\n",
       "168  ches\\TURBERCULOSIS\\Tuberculosis-9.png  TURBERCULOSIS\n",
       "\n",
       "[169 rows x 2 columns]>"
      ]
     },
     "execution_count": 71,
     "metadata": {},
     "output_type": "execute_result"
    }
   ],
   "source": [
    "df.head"
   ]
  },
  {
   "cell_type": "code",
   "execution_count": 72,
   "metadata": {},
   "outputs": [
    {
     "data": {
      "text/plain": [
       "(169, 2)"
      ]
     },
     "execution_count": 72,
     "metadata": {},
     "output_type": "execute_result"
    }
   ],
   "source": [
    "df.shape"
   ]
  },
  {
   "cell_type": "code",
   "execution_count": 73,
   "metadata": {},
   "outputs": [
    {
     "name": "stdout",
     "output_type": "stream",
     "text": [
      "<class 'pandas.core.frame.DataFrame'>\n",
      "RangeIndex: 169 entries, 0 to 168\n",
      "Data columns (total 2 columns):\n",
      " #   Column      Non-Null Count  Dtype \n",
      "---  ------      --------------  ----- \n",
      " 0   image_path  169 non-null    object\n",
      " 1   category    169 non-null    object\n",
      "dtypes: object(2)\n",
      "memory usage: 2.8+ KB\n"
     ]
    }
   ],
   "source": [
    "df.info()"
   ]
  },
  {
   "cell_type": "code",
   "execution_count": 74,
   "metadata": {},
   "outputs": [
    {
     "data": {
      "text/html": [
       "<div>\n",
       "<style scoped>\n",
       "    .dataframe tbody tr th:only-of-type {\n",
       "        vertical-align: middle;\n",
       "    }\n",
       "\n",
       "    .dataframe tbody tr th {\n",
       "        vertical-align: top;\n",
       "    }\n",
       "\n",
       "    .dataframe thead th {\n",
       "        text-align: right;\n",
       "    }\n",
       "</style>\n",
       "<table border=\"1\" class=\"dataframe\">\n",
       "  <thead>\n",
       "    <tr style=\"text-align: right;\">\n",
       "      <th></th>\n",
       "      <th>image_path</th>\n",
       "      <th>category</th>\n",
       "    </tr>\n",
       "  </thead>\n",
       "  <tbody>\n",
       "    <tr>\n",
       "      <th>164</th>\n",
       "      <td>ches\\TURBERCULOSIS\\Tuberculosis-5.png</td>\n",
       "      <td>TURBERCULOSIS</td>\n",
       "    </tr>\n",
       "    <tr>\n",
       "      <th>165</th>\n",
       "      <td>ches\\TURBERCULOSIS\\Tuberculosis-6.png</td>\n",
       "      <td>TURBERCULOSIS</td>\n",
       "    </tr>\n",
       "    <tr>\n",
       "      <th>166</th>\n",
       "      <td>ches\\TURBERCULOSIS\\Tuberculosis-7.png</td>\n",
       "      <td>TURBERCULOSIS</td>\n",
       "    </tr>\n",
       "    <tr>\n",
       "      <th>167</th>\n",
       "      <td>ches\\TURBERCULOSIS\\Tuberculosis-8.png</td>\n",
       "      <td>TURBERCULOSIS</td>\n",
       "    </tr>\n",
       "    <tr>\n",
       "      <th>168</th>\n",
       "      <td>ches\\TURBERCULOSIS\\Tuberculosis-9.png</td>\n",
       "      <td>TURBERCULOSIS</td>\n",
       "    </tr>\n",
       "  </tbody>\n",
       "</table>\n",
       "</div>"
      ],
      "text/plain": [
       "                                image_path       category\n",
       "164  ches\\TURBERCULOSIS\\Tuberculosis-5.png  TURBERCULOSIS\n",
       "165  ches\\TURBERCULOSIS\\Tuberculosis-6.png  TURBERCULOSIS\n",
       "166  ches\\TURBERCULOSIS\\Tuberculosis-7.png  TURBERCULOSIS\n",
       "167  ches\\TURBERCULOSIS\\Tuberculosis-8.png  TURBERCULOSIS\n",
       "168  ches\\TURBERCULOSIS\\Tuberculosis-9.png  TURBERCULOSIS"
      ]
     },
     "execution_count": 74,
     "metadata": {},
     "output_type": "execute_result"
    }
   ],
   "source": [
    "df.tail()"
   ]
  },
  {
   "cell_type": "code",
   "execution_count": 75,
   "metadata": {},
   "outputs": [
    {
     "data": {
      "text/html": [
       "<div>\n",
       "<style scoped>\n",
       "    .dataframe tbody tr th:only-of-type {\n",
       "        vertical-align: middle;\n",
       "    }\n",
       "\n",
       "    .dataframe tbody tr th {\n",
       "        vertical-align: top;\n",
       "    }\n",
       "\n",
       "    .dataframe thead th {\n",
       "        text-align: right;\n",
       "    }\n",
       "</style>\n",
       "<table border=\"1\" class=\"dataframe\">\n",
       "  <thead>\n",
       "    <tr style=\"text-align: right;\">\n",
       "      <th></th>\n",
       "      <th>image_path</th>\n",
       "      <th>category</th>\n",
       "    </tr>\n",
       "  </thead>\n",
       "  <tbody>\n",
       "    <tr>\n",
       "      <th>count</th>\n",
       "      <td>169</td>\n",
       "      <td>169</td>\n",
       "    </tr>\n",
       "    <tr>\n",
       "      <th>unique</th>\n",
       "      <td>169</td>\n",
       "      <td>4</td>\n",
       "    </tr>\n",
       "    <tr>\n",
       "      <th>top</th>\n",
       "      <td>ches\\COVID19\\COVID19(450).jpg</td>\n",
       "      <td>NORMAL</td>\n",
       "    </tr>\n",
       "    <tr>\n",
       "      <th>freq</th>\n",
       "      <td>1</td>\n",
       "      <td>73</td>\n",
       "    </tr>\n",
       "  </tbody>\n",
       "</table>\n",
       "</div>"
      ],
      "text/plain": [
       "                           image_path category\n",
       "count                             169      169\n",
       "unique                            169        4\n",
       "top     ches\\COVID19\\COVID19(450).jpg   NORMAL\n",
       "freq                                1       73"
      ]
     },
     "execution_count": 75,
     "metadata": {},
     "output_type": "execute_result"
    }
   ],
   "source": [
    "df.describe()"
   ]
  },
  {
   "cell_type": "code",
   "execution_count": 76,
   "metadata": {},
   "outputs": [
    {
     "data": {
      "text/plain": [
       "array(['COVID19', 'NORMAL', 'PNEUMONIA', 'TURBERCULOSIS'], dtype=object)"
      ]
     },
     "execution_count": 76,
     "metadata": {},
     "output_type": "execute_result"
    }
   ],
   "source": [
    "df['category'].unique()"
   ]
  },
  {
   "cell_type": "code",
   "execution_count": 77,
   "metadata": {},
   "outputs": [
    {
     "data": {
      "text/plain": [
       "category\n",
       "NORMAL           73\n",
       "COVID19          36\n",
       "PNEUMONIA        30\n",
       "TURBERCULOSIS    30\n",
       "Name: count, dtype: int64"
      ]
     },
     "execution_count": 77,
     "metadata": {},
     "output_type": "execute_result"
    }
   ],
   "source": [
    "df['category'].value_counts()"
   ]
  },
  {
   "cell_type": "code",
   "execution_count": 78,
   "metadata": {},
   "outputs": [],
   "source": [
    "# Fonction pour charger les images et leurs étiquettes\n",
    "def charger_donnees(chemin_donnees, categories):\n",
    "    images = []  # Liste pour stocker les images\n",
    "    indexation = []  # Liste pour stocker indexetion\n",
    "    for index, categorie in enumerate(categories):\n",
    "        chemin_categorie = os.path.join(chemin_donnees, categorie)\n",
    "        if not os.path.exists(chemin_categorie):\n",
    "            print(f\"Dossier {chemin_categorie} n'existe pas.\")\n",
    "            continue\n",
    "        for nom_fichier in os.listdir(chemin_categorie):\n",
    "            chemin_image = os.path.join(chemin_categorie, nom_fichier)\n",
    "            try:\n",
    "                image = cv2.imread(chemin_image, cv2.IMREAD_GRAYSCALE)\n",
    "                if image is None:\n",
    "                    raise ValueError(f\"Image {chemin_image} est invalide.\")\n",
    "                image_redim = cv2.resize(image, taille_image).flatten()\n",
    "                images.append(image_redim)\n",
    "                indexation.append(index)\n",
    "            except Exception as e:\n",
    "                print(e)\n",
    "                continue\n",
    "    return np.array(images), np.array(indexation)"
   ]
  },
  {
   "cell_type": "code",
   "execution_count": 79,
   "metadata": {},
   "outputs": [],
   "source": [
    "# Charger les données\n",
    "images, indexation = charger_donnees(chemin_donnees, categories)"
   ]
  },
  {
   "cell_type": "code",
   "execution_count": 80,
   "metadata": {},
   "outputs": [],
   "source": [
    "# Diviser les données en ensembles d'entraînement et de test\n",
    "images_entrainement, images_test, indexation_entrainement, indexation_test = train_test_split(\n",
    "    images, indexation, test_size=0.2, random_state=42)"
   ]
  },
  {
   "cell_type": "code",
   "execution_count": 81,
   "metadata": {},
   "outputs": [],
   "source": [
    "# Fonction pour calculer la distance euclidienne entre deux images\n",
    "def calculer_distance(image1, image2):\n",
    "    return np.sqrt(np.sum((image1 - image2) ** 2))"
   ]
  },
  {
   "cell_type": "code",
   "execution_count": 82,
   "metadata": {},
   "outputs": [],
   "source": [
    "# Fonction KNN pour prédire la catégorie d'une image de test\n",
    "def knn(images_entrainement, indexation_entrainement, image_test,k, categories):\n",
    "    distances = []   # Liste vide pour stocker les distances entre l'image de test et les images d'entraînement\n",
    "    # Calculer la distance entre l'image de test et chaque image d'entraînement\n",
    "    for i in range(len(images_entrainement)):\n",
    "        distance = calculer_distance(images_entrainement[i], image_test)   # Calculer la distance pour l'image courante\n",
    "        distances.append((distance, indexation_entrainement[i]))  # Ajouter la distance et l'étiquette correspondante\n",
    "    # Trier les distances par ordre croissant\n",
    "    distances_triees = sorted(distances, key=lambda x: x[0])\n",
    "    # Prendre les k plus proches voisins\n",
    "    voisins_proches = distances_triees[:k]\n",
    "    # Trouver la catégorie la plus fréquente parmi les voisins\n",
    "    index_voisins = [voisin[1] for voisin in voisins_proches] # Extraire les étiquettes des voisins\n",
    "    categorie_predite = Counter(index_voisins).most_common(1)[0][0] # Trouver l'étiquette la plus fréquente\n",
    "    return categories[categorie_predite]  # Retourner le nom de la catégorie"
   ]
  },
  {
   "cell_type": "code",
   "execution_count": 83,
   "metadata": {},
   "outputs": [],
   "source": [
    "# Fonction pour évaluer le modèle\n",
    "def evaluer_modele(images_entrainement, indexation_entrainement, images_test, indexation_test, k, categories):\n",
    "    predictions = []\n",
    "    for image_test in images_test:\n",
    "        prediction = knn(images_entrainement, indexation_entrainement, image_test, k, categories)\n",
    "        predictions.append(prediction)\n",
    "    \n",
    "    # Convertir les prédictions en indices correspondants\n",
    "    predictions_indices = [categories.index(prediction) for prediction in predictions]\n",
    "\n",
    "    # Initialiser les variables pour la matrice de confusion\n",
    "    TP = FP = TN = FN = 0\n",
    "    for i in range(len(indexation_test)):\n",
    "        if predictions_indices[i] == indexation_test[i]:\n",
    "            if predictions_indices[i] == 1:  # Exemple, catégorie \"COVID19\" est à l'indice 1\n",
    "                TP += 1\n",
    "            else:\n",
    "                TN += 1\n",
    "        else:\n",
    "            if predictions_indices[i] == 1:\n",
    "                FP += 1\n",
    "            else:\n",
    "                FN += 1\n",
    "     # 3. Calcul de la précision (Precision)\n",
    "    precision = TP / (TP + FP) if (TP + FP) != 0 else 0\n",
    "    # 4. Calcul du rappel\n",
    "    recall = TP / (TP + FN) if (TP + FN) != 0 else 0\n",
    "     # 5. Calcul de la F-mesure\n",
    "    f_score = (2 * precision * recall) / (precision + recall) if (precision + recall) != 0 else 0\n",
    "    # 6. Calcul de la précision globale\n",
    "    accuracy = (TP + TN) / len(indexation_test)\n",
    "\n",
    "    return predictions_indices, accuracy, precision, recall, f_score"
   ]
  },
  {
   "cell_type": "code",
   "execution_count": 84,
   "metadata": {},
   "outputs": [
    {
     "name": "stdout",
     "output_type": "stream",
     "text": [
      "\n",
      "Métriques du modèle :\n",
      "Précision : 0.7\n",
      "Rappel : 0.8235294117647058\n",
      "F-score : 0.7567567567567567\n",
      "Précision Globale : 0.7352941176470589\n"
     ]
    }
   ],
   "source": [
    "# Affichage des résultats après la mise à jour\n",
    "predictions_indices, accuracy, precision, recall, f_score = evaluer_modele(images_entrainement, indexation_entrainement, images_test, indexation_test, K, categories)\n",
    "\n",
    "# Affichage des résultats\n",
    "print(\"\\nMétriques du modèle :\")\n",
    "print(f\"Précision : {precision}\")\n",
    "print(f\"Rappel : {recall}\")\n",
    "print(f\"F-score : {f_score}\")\n",
    "print(f\"Précision Globale : {accuracy}\")\n"
   ]
  },
  {
   "cell_type": "code",
   "execution_count": 86,
   "metadata": {},
   "outputs": [
    {
     "name": "stdout",
     "output_type": "stream",
     "text": [
      "\n",
      "Matrice de confusion :\n",
      "[[ 5  3  0  2]\n",
      " [ 0 14  0  0]\n",
      " [ 0  3  2  0]\n",
      " [ 1  0  0  4]]\n",
      "\n",
      "Rapport de classification :\n",
      "               precision    recall  f1-score   support\n",
      "\n",
      "      COVID19       0.83      0.50      0.62        10\n",
      "       NORMAL       0.70      1.00      0.82        14\n",
      "    PNEUMONIA       1.00      0.40      0.57         5\n",
      "TURBERCULOSIS       0.67      0.80      0.73         5\n",
      "\n",
      "     accuracy                           0.74        34\n",
      "    macro avg       0.80      0.68      0.69        34\n",
      " weighted avg       0.78      0.74      0.71        34\n",
      "\n"
     ]
    },
    {
     "data": {
      "image/png": "[encoded data removed]",
      "text/plain": [
       "<Figure size 800x600 with 2 Axes>"
      ]
     },
     "metadata": {},
     "output_type": "display_data"
    }
   ],
   "source": [
    "# Matrice de confusion avec les indices de test\n",
    "matrice_confusion = confusion_matrix(indexation_test, predictions_indices)\n",
    "print(\"\\nMatrice de confusion :\")\n",
    "print(matrice_confusion)\n",
    "\n",
    "# Rapport de classification avec les données de test\n",
    "print(\"\\nRapport de classification :\")\n",
    "print(classification_report(indexation_test, predictions_indices, target_names=categories))\n",
    "\n",
    "# Affichage de la matrice de confusion sous forme de heatmap\n",
    "plt.figure(figsize=(8, 6))\n",
    "sns.heatmap(matrice_confusion, annot=True, fmt='d', xticklabels=categories, yticklabels=categories, cmap='Blues')\n",
    "plt.xlabel('Prédictions')\n",
    "plt.ylabel('Vérités')\n",
    "plt.title('Matrice de confusion')\n",
    "plt.show()\n"
   ]
  },
  {
   "cell_type": "code",
   "execution_count": 87,
   "metadata": {},
   "outputs": [],
   "source": [
    "# Exemple de prédiction pour une image spécifique\n",
    "image_path = 'chest/TURBERCULOSIS/Tuberculosis-336.png'\n",
    "def predire_chemin_image(chemin_image, images_entrainement, indexation_entrainement,k, taille_image, categories):\n",
    "    try:\n",
    "        image = cv2.imread(chemin_image, cv2.IMREAD_GRAYSCALE)\n",
    "        if image is None:\n",
    "            raise ValueError(f\"Erreur : l'image {chemin_image} est invalide.\")\n",
    "        image_redim = cv2.resize(image, taille_image).flatten()\n",
    "        categorie_predite = knn(images_entrainement, indexation_entrainement, image_redim, k, categories)\n",
    "        print(f\"Catégorie prédite pour l'image {chemin_image} : {categorie_predite}\")\n",
    "        return categorie_predite\n",
    "    except Exception as e:\n",
    "        print(f\"Erreur lors du traitement de l'image : {e}\")\n",
    "        return None\n",
    "\n"
   ]
  },
  {
   "cell_type": "code",
   "execution_count": 88,
   "metadata": {},
   "outputs": [
    {
     "name": "stdout",
     "output_type": "stream",
     "text": [
      "Catégorie prédite pour l'image chest/TURBERCULOSIS/Tuberculosis-336.png : TURBERCULOSIS\n"
     ]
    },
    {
     "data": {
      "text/plain": [
       "'TURBERCULOSIS'"
      ]
     },
     "execution_count": 88,
     "metadata": {},
     "output_type": "execute_result"
    }
   ],
   "source": [
    "\n",
    "# Prédiction de l'image d'exemple\n",
    "predire_chemin_image(image_path, images_entrainement, indexation_entrainement, K, taille_image, categories)"
   ]
  },
  {
   "cell_type": "code",
   "execution_count": null,
   "metadata": {},
   "outputs": [],
   "source": []
  }
 ],
 "metadata": {
  "kernelspec": {
   "display_name": "Python 3",
   "language": "python",
   "name": "python3"
  },
  "language_info": {
   "codemirror_mode": {
    "name": "ipython",
    "version": 3
   },
   "file_extension": ".py",
   "mimetype": "text/x-python",
   "name": "python",
   "nbconvert_exporter": "python",
   "pygments_lexer": "ipython3",
   "version": "3.12.3"
  }
 },
 "nbformat": 4,
 "nbformat_minor": 2
}
